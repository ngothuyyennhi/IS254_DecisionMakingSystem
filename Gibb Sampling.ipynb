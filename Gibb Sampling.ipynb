{
  "nbformat": 4,
  "nbformat_minor": 0,
  "metadata": {
    "colab": {
      "provenance": []
    },
    "kernelspec": {
      "name": "python3",
      "display_name": "Python 3"
    },
    "language_info": {
      "name": "python"
    }
  },
  "cells": [
    {
      "cell_type": "code",
      "source": [
        "import pandas as pd\n",
        "import numpy as np\n",
        "import random\n",
        "from sklearn.metrics import mean_squared_error\n",
        "import seaborn as sns\n",
        "import matplotlib.pyplot as plt"
      ],
      "metadata": {
        "id": "ShUdGk30Xxgs"
      },
      "execution_count": 27,
      "outputs": []
    },
    {
      "cell_type": "code",
      "source": [
        "from google.colab import drive\n",
        "drive.mount('/content/drive')"
      ],
      "metadata": {
        "colab": {
          "base_uri": "https://localhost:8080/"
        },
        "id": "WVh7IElfY-Cf",
        "outputId": "f2bca4e2-29cb-42a3-cbe7-ea44b2a145d1"
      },
      "execution_count": 28,
      "outputs": [
        {
          "output_type": "stream",
          "name": "stdout",
          "text": [
            "Drive already mounted at /content/drive; to attempt to forcibly remount, call drive.mount(\"/content/drive\", force_remount=True).\n"
          ]
        }
      ]
    },
    {
      "cell_type": "code",
      "source": [
        "# Đọc dữ liệu từ các file CSV trong thư mục Test\n",
        "ratings_path = \"/content/drive/MyDrive/Test/ratings.csv\"\n",
        "movies_path = \"/content/drive/MyDrive/Test/movies.csv\""
      ],
      "metadata": {
        "id": "S4Urpn_4X3H1"
      },
      "execution_count": 29,
      "outputs": []
    },
    {
      "cell_type": "code",
      "source": [
        "ratings = pd.read_csv(ratings_path)\n",
        "movies = pd.read_csv(movies_path)"
      ],
      "metadata": {
        "id": "k_6_aGwkX5b3"
      },
      "execution_count": 30,
      "outputs": []
    },
    {
      "cell_type": "code",
      "source": [
        "ratings_sample = ratings.sample(n=50, random_state=42)"
      ],
      "metadata": {
        "id": "RTQmQu2RlmmL"
      },
      "execution_count": 31,
      "outputs": []
    },
    {
      "cell_type": "code",
      "source": [
        "print(ratings_sample)"
      ],
      "metadata": {
        "colab": {
          "base_uri": "https://localhost:8080/"
        },
        "id": "RdMmhg7Vl34s",
        "outputId": "15690310-39f9-4f8e-a68e-f60b82e98c75"
      },
      "execution_count": 32,
      "outputs": [
        {
          "output_type": "stream",
          "name": "stdout",
          "text": [
            "          userId  movieId  rating   timestamp\n",
            "10685861   66954      781     5.0   850944577\n",
            "1552723     9877      574     4.0   945495614\n",
            "6145184    38348     1088     2.0   999974867\n",
            "16268584  101952     2706     1.0  1203077565\n",
            "22418634  140400   275079     3.5  1653782463\n",
            "27638726  173400     1079     4.0  1133884396\n",
            "11890228   74417    69526     1.0  1511831626\n",
            "31139054  195523     2762     5.0  1196244339\n",
            "306095      1953     7451     4.0  1117552226\n",
            "13213609   82682     1210     5.0  1525844054\n",
            "14864676   93112    30793     4.0  1168789318\n",
            "4637050    29008     7024     0.5  1580407766\n",
            "2374514    15092    68157     4.5  1266293957\n",
            "10248899   64197    48516     3.5  1211725237\n",
            "31461429  197624    55247     5.0  1675683191\n",
            "21804088  136388      784     3.0  1482780322\n",
            "15811578   99083     1721     2.0  1310890388\n",
            "13581399   84937     1210     5.0  1051378880\n",
            "3949478    24772     1378     4.0  1067220789\n",
            "25979212  163220    53887     3.5  1589879484\n",
            "11947306   74771   174055     4.5  1517154253\n",
            "27940340  175222    91500     5.0  1467933948\n",
            "1461116     9268     8947     2.5  1517735272\n",
            "26828591  168590      267     2.0   995222477\n",
            "25570437  160520      912     4.0  1273683436\n",
            "3755667    23582     4329     3.5  1228315985\n",
            "22557351  141289   122896     2.0  1676668338\n",
            "26390051  165780   115617     3.5  1437171501\n",
            "15262153   95619      165     2.5  1132777006\n",
            "28183717  176609      110     4.0  1166372996\n",
            "13576825   84906        1     5.0   846267205\n",
            "29611375  185677     4014     4.5  1225259510\n",
            "6103608    38091      595     4.0  1583482360\n",
            "20306756  127171     4292     1.0  1513493678\n",
            "23837171  149333      912     5.0  1138010777\n",
            "27161939  170625     1408     3.0   970775299\n",
            "5768608    36033      805     4.0  1038800224\n",
            "25430496  159664      380     4.5  1298236734\n",
            "25471289  159849     2722     3.0  1289394589\n",
            "10728105   67227   120130     4.0  1630929819\n",
            "9534261    59586      153     2.0  1201899633\n",
            "11648367   72871     8780     3.5  1201431776\n",
            "11900625   74478     1407     2.5  1550607717\n",
            "13322302   83316    76093     2.0  1499398425\n",
            "27002178  169678      507     5.0  1009680909\n",
            "3542819    22285   142507     3.5  1605128569\n",
            "2527812    15996     1272     5.0   954474890\n",
            "2033760    12995     4571     4.5  1226449597\n",
            "28005946  175407     4085     4.0  1079794092\n",
            "5511756    34383      176     3.0  1001373214\n"
          ]
        }
      ]
    },
    {
      "cell_type": "code",
      "source": [
        "top_users = ratings_sample['userId'].value_counts().nlargest(1000).index\n",
        "top_movies = ratings_sample['movieId'].value_counts().nlargest(1000).index"
      ],
      "metadata": {
        "id": "b3pel3RSZMXA"
      },
      "execution_count": 33,
      "outputs": []
    },
    {
      "cell_type": "code",
      "source": [
        "filtered_ratings = ratings_sample[ratings_sample['userId'].isin(top_users) & ratings_sample['movieId'].isin(top_movies)]"
      ],
      "metadata": {
        "id": "DGaxtjsaX7LP"
      },
      "execution_count": 34,
      "outputs": []
    },
    {
      "cell_type": "code",
      "source": [
        "merged_df = pd.merge(movies, filtered_ratings, on='movieId')"
      ],
      "metadata": {
        "id": "H6JGGE0kZMGk"
      },
      "execution_count": 35,
      "outputs": []
    },
    {
      "cell_type": "code",
      "source": [
        "users = merged_df['userId'].unique()\n",
        "movies = merged_df['movieId'].unique()\n",
        "ratings_matrix = pd.DataFrame(index=users, columns=movies)"
      ],
      "metadata": {
        "id": "oGzZe8cUZPXo"
      },
      "execution_count": 36,
      "outputs": []
    },
    {
      "cell_type": "code",
      "source": [
        "# Điền giá trị ratings vào ma trận\n",
        "for _, row in merged_df.iterrows():\n",
        "    ratings_matrix.loc[row['userId'], row['movieId']] = row['rating']\n",
        "\n",
        "# Thay NaN bằng giá trị ngẫu nhiên trong khoảng [1, 5]\n",
        "ratings_matrix = ratings_matrix.applymap(lambda x: random.uniform(1, 5) if pd.isna(x) else x)\n"
      ],
      "metadata": {
        "colab": {
          "base_uri": "https://localhost:8080/"
        },
        "id": "KYAhhHpTZQho",
        "outputId": "57d3f741-fa3c-45f3-c937-33de80f77e11"
      },
      "execution_count": 37,
      "outputs": [
        {
          "output_type": "stream",
          "name": "stderr",
          "text": [
            "<ipython-input-37-751cd84ca753>:6: FutureWarning: DataFrame.applymap has been deprecated. Use DataFrame.map instead.\n",
            "  ratings_matrix = ratings_matrix.applymap(lambda x: random.uniform(1, 5) if pd.isna(x) else x)\n"
          ]
        }
      ]
    },
    {
      "cell_type": "code",
      "source": [
        "# Cập nhật mẫu Gibbs Sampling\n",
        "def update_gibbs_sample(a, ratings_matrix, users, movies):\n",
        "    for user in users:\n",
        "        for movie in movies:\n",
        "            # Tính toán giá trị trung bình và phương sai cho rating của user đối với các phim khác\n",
        "            others = ratings_matrix.loc[user, [col for col in movies if col != movie]]\n",
        "            mean_rating = others.mean()\n",
        "            std_rating = others.std() if others.std() > 0 else 1\n",
        "\n",
        "            # Lấy mẫu từ phân phối Gaussian\n",
        "            new_rating = np.random.normal(mean_rating, std_rating)\n",
        "\n",
        "            # Cập nhật giá trị rating trong ma trận\n",
        "            ratings_matrix.loc[user, movie] = max(1, min(5, new_rating))  # Đảm bảo rating trong khoảng [1, 5]\n",
        "\n",
        "# Gibbs Sampling\n",
        "def gibbs_sample(ratings_matrix, users, movies, num_iterations):\n",
        "    for _ in range(num_iterations):\n",
        "        update_gibbs_sample(ratings_matrix, ratings_matrix, users, movies)\n",
        "\n"
      ],
      "metadata": {
        "id": "LdTb7ZN3ZRxA"
      },
      "execution_count": 38,
      "outputs": []
    },
    {
      "cell_type": "code",
      "source": [
        "# Tạo mẫu Gibbs\n",
        "num_iterations = 100\n",
        "gibbs_sample(ratings_matrix, users, movies, num_iterations)"
      ],
      "metadata": {
        "id": "XSO2IkwfaTgc"
      },
      "execution_count": 39,
      "outputs": []
    },
    {
      "cell_type": "markdown",
      "source": [],
      "metadata": {
        "id": "9yn8gIDfaRcr"
      }
    },
    {
      "cell_type": "code",
      "source": [
        "# Dự đoán rating\n",
        "predicted_ratings = []\n",
        "predicted_results = []"
      ],
      "metadata": {
        "id": "v36eKDxIaH6O"
      },
      "execution_count": 43,
      "outputs": []
    },
    {
      "cell_type": "code",
      "source": [
        "# Lấy rating dự đoán từ ma trận ratings_matrix\n",
        "for _, row in ratings_sample.iterrows():\n",
        "    user_id = row['userId']\n",
        "    movie_id = row['movieId']\n",
        "\n",
        "    # Dự đoán rating từ ma trận đã được cập nhật qua Gibbs Sampling\n",
        "    predicted_rating = ratings_matrix.loc[user_id, movie_id]\n",
        "    predicted_ratings.append(predicted_rating)\n",
        "\n",
        "    # Lưu cặp (userId, movieId) và rating dự đoán để in\n",
        "    predicted_results.append({\n",
        "        'userId': user_id,\n",
        "        'movieId': movie_id,\n",
        "        'predicted_rating': predicted_rating\n",
        "    })\n",
        "\n",
        "# Chuyển kết quả dự đoán thành DataFrame để dễ dàng in\n",
        "predicted_df = pd.DataFrame(predicted_results)"
      ],
      "metadata": {
        "id": "e14Z1kTtrTfw"
      },
      "execution_count": 44,
      "outputs": []
    },
    {
      "cell_type": "code",
      "source": [
        "# In kết quả rating dự đoán ra màn hình\n",
        "print(\"Predicted Ratings for users and movies:\")\n",
        "print(predicted_df)\n"
      ],
      "metadata": {
        "colab": {
          "base_uri": "https://localhost:8080/"
        },
        "id": "JbVm-w1FLNjN",
        "outputId": "b9d5780a-afaa-420e-8be1-1613fb017fd2",
        "collapsed": true
      },
      "execution_count": 46,
      "outputs": [
        {
          "output_type": "stream",
          "name": "stdout",
          "text": [
            "Predicted Ratings for users and movies:\n",
            "      userId   movieId  predicted_rating\n",
            "0    66954.0     781.0          2.254932\n",
            "1     9877.0     574.0          3.025558\n",
            "2    38348.0    1088.0          2.353007\n",
            "3   101952.0    2706.0          3.591436\n",
            "4   140400.0  275079.0          2.434926\n",
            "5   173400.0    1079.0          2.188249\n",
            "6    74417.0   69526.0          2.404765\n",
            "7   195523.0    2762.0          2.775096\n",
            "8     1953.0    7451.0          2.376446\n",
            "9    82682.0    1210.0          2.857375\n",
            "10   93112.0   30793.0          2.320310\n",
            "11   29008.0    7024.0          1.184741\n",
            "12   15092.0   68157.0          3.032324\n",
            "13   64197.0   48516.0          3.914889\n",
            "14  197624.0   55247.0          3.301455\n",
            "15  136388.0     784.0          3.782044\n",
            "16   99083.0    1721.0          2.414901\n",
            "17   84937.0    1210.0          2.086788\n",
            "18   24772.0    1378.0          3.587849\n",
            "19  163220.0   53887.0          4.055572\n",
            "20   74771.0  174055.0          2.214036\n",
            "21  175222.0   91500.0          4.721084\n",
            "22    9268.0    8947.0          3.442819\n",
            "23  168590.0     267.0          3.125246\n",
            "24  160520.0     912.0          2.114329\n",
            "25   23582.0    4329.0          3.619553\n",
            "26  141289.0  122896.0          2.047403\n",
            "27  165780.0  115617.0          3.346989\n",
            "28   95619.0     165.0          2.408590\n",
            "29  176609.0     110.0          3.156542\n",
            "30   84906.0       1.0          4.244721\n",
            "31  185677.0    4014.0          3.043944\n",
            "32   38091.0     595.0          3.403774\n",
            "33  127171.0    4292.0          3.963310\n",
            "34  149333.0     912.0          2.626840\n",
            "35  170625.0    1408.0          2.773632\n",
            "36   36033.0     805.0          2.952677\n",
            "37  159664.0     380.0          3.602925\n",
            "38  159849.0    2722.0          3.500052\n",
            "39   67227.0  120130.0          2.934217\n",
            "40   59586.0     153.0          3.250776\n",
            "41   72871.0    8780.0          1.939376\n",
            "42   74478.0    1407.0          3.473561\n",
            "43   83316.0   76093.0          2.306223\n",
            "44  169678.0     507.0          2.529282\n",
            "45   22285.0  142507.0          3.743979\n",
            "46   15996.0    1272.0          3.307532\n",
            "47   12995.0    4571.0          2.012551\n",
            "48  175407.0    4085.0          2.771466\n",
            "49   34383.0     176.0          2.754679\n"
          ]
        }
      ]
    },
    {
      "cell_type": "code",
      "source": [
        "# Dự đoán rating\n",
        "predicted_ratings = []\n",
        "\n",
        "# Lấy rating dự đoán từ ma trận ratings_matrix\n",
        "for _, row in ratings_sample.iterrows():\n",
        "    user_id = row['userId']\n",
        "    movie_id = row['movieId']\n",
        "\n",
        "    # Dự đoán rating từ ma trận đã được cập nhật qua Gibbs Sampling\n",
        "    predicted_rating = ratings_matrix.loc[user_id, movie_id]\n",
        "    predicted_ratings.append(predicted_rating)"
      ],
      "metadata": {
        "id": "GlOny1X9moTY"
      },
      "execution_count": 23,
      "outputs": []
    },
    {
      "cell_type": "code",
      "source": [
        "# Lọc các giá trị rating thực tế (y_i)\n",
        "true_ratings = []\n",
        "for _, row in ratings_sample.iterrows():\n",
        "    true_ratings.append(row['rating'])"
      ],
      "metadata": {
        "id": "sWRrXDHFnKGC"
      },
      "execution_count": 47,
      "outputs": []
    },
    {
      "cell_type": "code",
      "source": [
        "rmse = np.sqrt(mean_squared_error(true_ratings, predicted_ratings))\n",
        "print(f\"RMSE: {rmse}\")"
      ],
      "metadata": {
        "colab": {
          "base_uri": "https://localhost:8080/"
        },
        "id": "b19zSr5goFdC",
        "outputId": "e802d799-e65a-49ac-f396-23cfe128fa67"
      },
      "execution_count": 48,
      "outputs": [
        {
          "output_type": "stream",
          "name": "stdout",
          "text": [
            "RMSE: 1.4597371972409177\n"
          ]
        }
      ]
    },
    {
      "cell_type": "code",
      "source": [],
      "metadata": {
        "id": "d-sdUyCRoIKQ"
      },
      "execution_count": null,
      "outputs": []
    }
  ]
}