{
  "nbformat": 4,
  "nbformat_minor": 0,
  "metadata": {
    "colab": {
      "provenance": []
    },
    "kernelspec": {
      "name": "python3",
      "display_name": "Python 3"
    },
    "language_info": {
      "name": "python"
    }
  },
  "cells": [
    {
      "cell_type": "code",
      "source": [
        "import pandas as pd\n",
        "import numpy as np\n",
        "import random\n",
        "from sklearn.metrics import mean_squared_error\n",
        "import seaborn as sns\n",
        "import matplotlib.pyplot as plt"
      ],
      "metadata": {
        "id": "ShUdGk30Xxgs"
      },
      "execution_count": 1,
      "outputs": []
    },
    {
      "cell_type": "code",
      "source": [
        "from google.colab import drive\n",
        "drive.mount('/content/drive')"
      ],
      "metadata": {
        "colab": {
          "base_uri": "https://localhost:8080/"
        },
        "id": "WVh7IElfY-Cf",
        "outputId": "90431525-a10d-4578-e939-086f0d62fd39"
      },
      "execution_count": 2,
      "outputs": [
        {
          "output_type": "stream",
          "name": "stdout",
          "text": [
            "Mounted at /content/drive\n"
          ]
        }
      ]
    },
    {
      "cell_type": "code",
      "source": [
        "# Đọc dữ liệu từ các file CSV trong thư mục Test\n",
        "ratings_path = \"/content/drive/MyDrive/Test/ratings.csv\"\n",
        "movies_path = \"/content/drive/MyDrive/Test/movies.csv\""
      ],
      "metadata": {
        "id": "S4Urpn_4X3H1"
      },
      "execution_count": 3,
      "outputs": []
    },
    {
      "cell_type": "code",
      "source": [
        "ratings = pd.read_csv(ratings_path)\n",
        "movies = pd.read_csv(movies_path)"
      ],
      "metadata": {
        "id": "k_6_aGwkX5b3"
      },
      "execution_count": 4,
      "outputs": []
    },
    {
      "cell_type": "code",
      "source": [
        "ratings_sample = ratings.sample(n=50, random_state=42)"
      ],
      "metadata": {
        "id": "RTQmQu2RlmmL"
      },
      "execution_count": 5,
      "outputs": []
    },
    {
      "cell_type": "code",
      "source": [
        "print(ratings_sample)"
      ],
      "metadata": {
        "colab": {
          "base_uri": "https://localhost:8080/"
        },
        "id": "RdMmhg7Vl34s",
        "outputId": "43b932cf-7a79-4c82-a02d-66a44b8df1aa"
      },
      "execution_count": 6,
      "outputs": [
        {
          "output_type": "stream",
          "name": "stdout",
          "text": [
            "          userId  movieId  rating   timestamp\n",
            "10685861   66954      781     5.0   850944577\n",
            "1552723     9877      574     4.0   945495614\n",
            "6145184    38348     1088     2.0   999974867\n",
            "16268584  101952     2706     1.0  1203077565\n",
            "22418634  140400   275079     3.5  1653782463\n",
            "27638726  173400     1079     4.0  1133884396\n",
            "11890228   74417    69526     1.0  1511831626\n",
            "31139054  195523     2762     5.0  1196244339\n",
            "306095      1953     7451     4.0  1117552226\n",
            "13213609   82682     1210     5.0  1525844054\n",
            "14864676   93112    30793     4.0  1168789318\n",
            "4637050    29008     7024     0.5  1580407766\n",
            "2374514    15092    68157     4.5  1266293957\n",
            "10248899   64197    48516     3.5  1211725237\n",
            "31461429  197624    55247     5.0  1675683191\n",
            "21804088  136388      784     3.0  1482780322\n",
            "15811578   99083     1721     2.0  1310890388\n",
            "13581399   84937     1210     5.0  1051378880\n",
            "3949478    24772     1378     4.0  1067220789\n",
            "25979212  163220    53887     3.5  1589879484\n",
            "11947306   74771   174055     4.5  1517154253\n",
            "27940340  175222    91500     5.0  1467933948\n",
            "1461116     9268     8947     2.5  1517735272\n",
            "26828591  168590      267     2.0   995222477\n",
            "25570437  160520      912     4.0  1273683436\n",
            "3755667    23582     4329     3.5  1228315985\n",
            "22557351  141289   122896     2.0  1676668338\n",
            "26390051  165780   115617     3.5  1437171501\n",
            "15262153   95619      165     2.5  1132777006\n",
            "28183717  176609      110     4.0  1166372996\n",
            "13576825   84906        1     5.0   846267205\n",
            "29611375  185677     4014     4.5  1225259510\n",
            "6103608    38091      595     4.0  1583482360\n",
            "20306756  127171     4292     1.0  1513493678\n",
            "23837171  149333      912     5.0  1138010777\n",
            "27161939  170625     1408     3.0   970775299\n",
            "5768608    36033      805     4.0  1038800224\n",
            "25430496  159664      380     4.5  1298236734\n",
            "25471289  159849     2722     3.0  1289394589\n",
            "10728105   67227   120130     4.0  1630929819\n",
            "9534261    59586      153     2.0  1201899633\n",
            "11648367   72871     8780     3.5  1201431776\n",
            "11900625   74478     1407     2.5  1550607717\n",
            "13322302   83316    76093     2.0  1499398425\n",
            "27002178  169678      507     5.0  1009680909\n",
            "3542819    22285   142507     3.5  1605128569\n",
            "2527812    15996     1272     5.0   954474890\n",
            "2033760    12995     4571     4.5  1226449597\n",
            "28005946  175407     4085     4.0  1079794092\n",
            "5511756    34383      176     3.0  1001373214\n"
          ]
        }
      ]
    },
    {
      "cell_type": "code",
      "source": [
        "top_users = ratings_sample['userId'].value_counts().nlargest(1000).index\n",
        "top_movies = ratings_sample['movieId'].value_counts().nlargest(1000).index"
      ],
      "metadata": {
        "id": "b3pel3RSZMXA"
      },
      "execution_count": 7,
      "outputs": []
    },
    {
      "cell_type": "code",
      "source": [
        "filtered_ratings = ratings_sample[ratings_sample['userId'].isin(top_users) & ratings_sample['movieId'].isin(top_movies)]"
      ],
      "metadata": {
        "id": "DGaxtjsaX7LP"
      },
      "execution_count": 8,
      "outputs": []
    },
    {
      "cell_type": "code",
      "source": [
        "merged_df = pd.merge(movies, filtered_ratings, on='movieId')"
      ],
      "metadata": {
        "id": "H6JGGE0kZMGk"
      },
      "execution_count": 9,
      "outputs": []
    },
    {
      "cell_type": "code",
      "source": [
        "users = merged_df['userId'].unique()\n",
        "movies = merged_df['movieId'].unique()\n",
        "ratings_matrix = pd.DataFrame(index=users, columns=movies)"
      ],
      "metadata": {
        "id": "oGzZe8cUZPXo"
      },
      "execution_count": 10,
      "outputs": []
    },
    {
      "cell_type": "code",
      "source": [
        "# Điền giá trị ratings vào ma trận\n",
        "for _, row in merged_df.iterrows():\n",
        "    ratings_matrix.loc[row['userId'], row['movieId']] = row['rating']\n",
        "\n",
        "# Thay NaN bằng giá trị ngẫu nhiên trong khoảng [1, 5]\n",
        "ratings_matrix = ratings_matrix.applymap(lambda x: random.uniform(1, 5) if pd.isna(x) else x)\n"
      ],
      "metadata": {
        "colab": {
          "base_uri": "https://localhost:8080/"
        },
        "id": "KYAhhHpTZQho",
        "outputId": "fac76cd0-ecb3-4efe-f088-5834366d41dd"
      },
      "execution_count": 11,
      "outputs": [
        {
          "output_type": "stream",
          "name": "stderr",
          "text": [
            "<ipython-input-11-751cd84ca753>:6: FutureWarning: DataFrame.applymap has been deprecated. Use DataFrame.map instead.\n",
            "  ratings_matrix = ratings_matrix.applymap(lambda x: random.uniform(1, 5) if pd.isna(x) else x)\n"
          ]
        }
      ]
    },
    {
      "cell_type": "code",
      "source": [
        "# Cập nhật mẫu Gibbs Sampling với phân phối có điều kiện (Gaussian hoặc khác)\n",
        "def update_gibbs_sample(ratings_matrix, users, movies):\n",
        "    for user in users:\n",
        "        for movie in movies:\n",
        "            # Lấy các giá trị rating khác của người dùng đối với các bộ phim khác\n",
        "            others = ratings_matrix.loc[user, [col for col in movies if col != movie]]\n",
        "            mean_rating = others.mean()  # Trung bình các rating của người dùng đối với các phim khác\n",
        "            std_rating = others.std() if others.std() > 0 else 1  # Đảm bảo phương sai lớn hơn 0\n",
        "\n",
        "            # Lấy mẫu từ phân phối Gaussian có điều kiện\n",
        "            new_rating = np.random.normal(mean_rating, std_rating)\n",
        "\n",
        "            # Cập nhật giá trị rating trong ma trận\n",
        "            ratings_matrix.loc[user, movie] = max(1, min(5, new_rating))\n",
        "\n",
        "# Gibbs Sampling\n",
        "def gibbs_sample(ratings_matrix, users, movies, num_iterations):\n",
        "    for _ in range(num_iterations):\n",
        "        update_gibbs_sample(ratings_matrix, users, movies)\n"
      ],
      "metadata": {
        "id": "LdTb7ZN3ZRxA"
      },
      "execution_count": 13,
      "outputs": []
    },
    {
      "cell_type": "code",
      "source": [
        "# Tạo mẫu Gibbs\n",
        "num_iterations = 100\n",
        "gibbs_sample(ratings_matrix, users, movies, num_iterations)"
      ],
      "metadata": {
        "id": "XSO2IkwfaTgc"
      },
      "execution_count": 14,
      "outputs": []
    },
    {
      "cell_type": "markdown",
      "source": [],
      "metadata": {
        "id": "9yn8gIDfaRcr"
      }
    },
    {
      "cell_type": "code",
      "source": [
        "# Dự đoán rating\n",
        "predicted_ratings = []\n",
        "predicted_results = []"
      ],
      "metadata": {
        "id": "v36eKDxIaH6O"
      },
      "execution_count": 15,
      "outputs": []
    },
    {
      "cell_type": "code",
      "source": [
        "# Lấy rating dự đoán từ ma trận ratings_matrix\n",
        "for _, row in ratings_sample.iterrows():\n",
        "    user_id = row['userId']\n",
        "    movie_id = row['movieId']\n",
        "\n",
        "    # Dự đoán rating từ ma trận đã được cập nhật qua Gibbs Sampling\n",
        "    predicted_rating = ratings_matrix.loc[user_id, movie_id]\n",
        "    predicted_ratings.append(predicted_rating)\n",
        "\n",
        "    # Lưu cặp (userId, movieId) và rating dự đoán để in\n",
        "    predicted_results.append({\n",
        "        'userId': user_id,\n",
        "        'movieId': movie_id,\n",
        "        'predicted_rating': predicted_rating\n",
        "    })\n",
        "\n",
        "# Chuyển kết quả dự đoán thành DataFrame\n",
        "predicted_df = pd.DataFrame(predicted_results)"
      ],
      "metadata": {
        "id": "e14Z1kTtrTfw"
      },
      "execution_count": 16,
      "outputs": []
    },
    {
      "cell_type": "code",
      "source": [
        "# In kết quả rating dự đoán ra màn hình\n",
        "print(\"Predicted Ratings for users and movies:\")\n",
        "print(predicted_df)\n"
      ],
      "metadata": {
        "colab": {
          "base_uri": "https://localhost:8080/"
        },
        "id": "JbVm-w1FLNjN",
        "outputId": "5db3b343-5dd2-4d50-9100-7e89573ce6dd",
        "collapsed": true
      },
      "execution_count": 17,
      "outputs": [
        {
          "output_type": "stream",
          "name": "stdout",
          "text": [
            "Predicted Ratings for users and movies:\n",
            "      userId   movieId  predicted_rating\n",
            "0    66954.0     781.0          2.870846\n",
            "1     9877.0     574.0          2.618179\n",
            "2    38348.0    1088.0          1.599358\n",
            "3   101952.0    2706.0          3.678717\n",
            "4   140400.0  275079.0          3.887370\n",
            "5   173400.0    1079.0          2.756731\n",
            "6    74417.0   69526.0          3.017697\n",
            "7   195523.0    2762.0          2.539266\n",
            "8     1953.0    7451.0          2.522786\n",
            "9    82682.0    1210.0          3.459141\n",
            "10   93112.0   30793.0          3.818512\n",
            "11   29008.0    7024.0          3.792858\n",
            "12   15092.0   68157.0          3.275642\n",
            "13   64197.0   48516.0          4.329411\n",
            "14  197624.0   55247.0          2.812048\n",
            "15  136388.0     784.0          2.668534\n",
            "16   99083.0    1721.0          3.743322\n",
            "17   84937.0    1210.0          2.580480\n",
            "18   24772.0    1378.0          2.987250\n",
            "19  163220.0   53887.0          2.373119\n",
            "20   74771.0  174055.0          4.134089\n",
            "21  175222.0   91500.0          3.303224\n",
            "22    9268.0    8947.0          3.481729\n",
            "23  168590.0     267.0          3.531542\n",
            "24  160520.0     912.0          4.261108\n",
            "25   23582.0    4329.0          3.412863\n",
            "26  141289.0  122896.0          3.164494\n",
            "27  165780.0  115617.0          2.928215\n",
            "28   95619.0     165.0          3.270959\n",
            "29  176609.0     110.0          3.359228\n",
            "30   84906.0       1.0          3.523065\n",
            "31  185677.0    4014.0          2.648883\n",
            "32   38091.0     595.0          2.405204\n",
            "33  127171.0    4292.0          4.009561\n",
            "34  149333.0     912.0          3.123129\n",
            "35  170625.0    1408.0          3.517928\n",
            "36   36033.0     805.0          3.101893\n",
            "37  159664.0     380.0          3.071462\n",
            "38  159849.0    2722.0          3.210652\n",
            "39   67227.0  120130.0          2.801719\n",
            "40   59586.0     153.0          1.611640\n",
            "41   72871.0    8780.0          2.662356\n",
            "42   74478.0    1407.0          4.026337\n",
            "43   83316.0   76093.0          2.526528\n",
            "44  169678.0     507.0          2.254549\n",
            "45   22285.0  142507.0          2.722272\n",
            "46   15996.0    1272.0          2.640293\n",
            "47   12995.0    4571.0          3.889913\n",
            "48  175407.0    4085.0          3.457465\n",
            "49   34383.0     176.0          2.746824\n"
          ]
        }
      ]
    },
    {
      "cell_type": "code",
      "source": [
        "# Lọc các giá trị rating thực tế (y_i)\n",
        "true_ratings = []\n",
        "for _, row in ratings_sample.iterrows():\n",
        "    true_ratings.append(row['rating'])"
      ],
      "metadata": {
        "id": "sWRrXDHFnKGC"
      },
      "execution_count": 18,
      "outputs": []
    },
    {
      "cell_type": "code",
      "source": [
        "rmse = np.sqrt(mean_squared_error(true_ratings, predicted_ratings))\n",
        "print(f\"RMSE: {rmse}\")"
      ],
      "metadata": {
        "colab": {
          "base_uri": "https://localhost:8080/"
        },
        "id": "b19zSr5goFdC",
        "outputId": "3f595746-ca53-4f68-babe-71af0b34e72d"
      },
      "execution_count": 19,
      "outputs": [
        {
          "output_type": "stream",
          "name": "stdout",
          "text": [
            "RMSE: 1.4941207114492308\n"
          ]
        }
      ]
    },
    {
      "cell_type": "code",
      "source": [],
      "metadata": {
        "id": "d-sdUyCRoIKQ"
      },
      "execution_count": null,
      "outputs": []
    }
  ]
}